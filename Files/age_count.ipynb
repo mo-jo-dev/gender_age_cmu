{
 "cells": [
  {
   "cell_type": "code",
   "execution_count": 8,
   "metadata": {},
   "outputs": [],
   "source": [
    "import pandas as pd"
   ]
  },
  {
   "cell_type": "code",
   "execution_count": 6,
   "metadata": {},
   "outputs": [
    {
     "data": {
      "text/html": [
       "<div>\n",
       "<style scoped>\n",
       "    .dataframe tbody tr th:only-of-type {\n",
       "        vertical-align: middle;\n",
       "    }\n",
       "\n",
       "    .dataframe tbody tr th {\n",
       "        vertical-align: top;\n",
       "    }\n",
       "\n",
       "    .dataframe thead th {\n",
       "        text-align: right;\n",
       "    }\n",
       "</style>\n",
       "<table border=\"1\" class=\"dataframe\">\n",
       "  <thead>\n",
       "    <tr style=\"text-align: right;\">\n",
       "      <th></th>\n",
       "      <th># 76 speakers\\t\\t</th>\n",
       "    </tr>\n",
       "  </thead>\n",
       "  <tbody>\n",
       "    <tr>\n",
       "      <th>0</th>\n",
       "      <td># ID\\tLOC\\tGR/AGE\\tTOT\\tBIN2</td>\n",
       "    </tr>\n",
       "    <tr>\n",
       "      <th>1</th>\n",
       "      <td>fabm\\tSUM95\\t3/9\\t100\\t62</td>\n",
       "    </tr>\n",
       "    <tr>\n",
       "      <th>2</th>\n",
       "      <td>facs\\tSUM95\\t2/8\\t90\\t55</td>\n",
       "    </tr>\n",
       "    <tr>\n",
       "      <th>3</th>\n",
       "      <td>fadf\\tFP\\t2/8\\t73\\t73</td>\n",
       "    </tr>\n",
       "    <tr>\n",
       "      <th>4</th>\n",
       "      <td>fadh\\tSUM95\\tk/6\\t1\\t1</td>\n",
       "    </tr>\n",
       "  </tbody>\n",
       "</table>\n",
       "</div>"
      ],
      "text/plain": [
       "              # 76 speakers\\t\\t\n",
       "0  # ID\\tLOC\\tGR/AGE\\tTOT\\tBIN2\n",
       "1     fabm\\tSUM95\\t3/9\\t100\\t62\n",
       "2      facs\\tSUM95\\t2/8\\t90\\t55\n",
       "3         fadf\\tFP\\t2/8\\t73\\t73\n",
       "4        fadh\\tSUM95\\tk/6\\t1\\t1"
      ]
     },
     "execution_count": 6,
     "metadata": {},
     "output_type": "execute_result"
    }
   ],
   "source": [
    "df = pd.read_csv('speaker.tbl')\n",
    "df.head()"
   ]
  },
  {
   "cell_type": "code",
   "execution_count": 21,
   "metadata": {},
   "outputs": [
    {
     "ename": "NotADirectoryError",
     "evalue": "[Errno 20] Not a directory: 'speaker.tbl'",
     "output_type": "error",
     "traceback": [
      "\u001b[0;31m---------------------------------------------------------------------------\u001b[0m",
      "\u001b[0;31mNotADirectoryError\u001b[0m                        Traceback (most recent call last)",
      "\u001b[0;32m/tmp/ipykernel_33339/3247202373.py\u001b[0m in \u001b[0;36m<module>\u001b[0;34m\u001b[0m\n\u001b[1;32m     13\u001b[0m \u001b[0;34m\u001b[0m\u001b[0m\n\u001b[1;32m     14\u001b[0m \u001b[0;31m# Step 4: Iterate through each .tbl file in the directory\u001b[0m\u001b[0;34m\u001b[0m\u001b[0;34m\u001b[0m\u001b[0m\n\u001b[0;32m---> 15\u001b[0;31m \u001b[0;32mfor\u001b[0m \u001b[0mfilename\u001b[0m \u001b[0;32min\u001b[0m \u001b[0mos\u001b[0m\u001b[0;34m.\u001b[0m\u001b[0mlistdir\u001b[0m\u001b[0;34m(\u001b[0m\u001b[0mdirectory\u001b[0m\u001b[0;34m)\u001b[0m\u001b[0;34m:\u001b[0m\u001b[0;34m\u001b[0m\u001b[0;34m\u001b[0m\u001b[0m\n\u001b[0m\u001b[1;32m     16\u001b[0m     \u001b[0;32mif\u001b[0m \u001b[0mfilename\u001b[0m\u001b[0;34m.\u001b[0m\u001b[0mendswith\u001b[0m\u001b[0;34m(\u001b[0m\u001b[0;34m'.tbl'\u001b[0m\u001b[0;34m)\u001b[0m\u001b[0;34m:\u001b[0m\u001b[0;34m\u001b[0m\u001b[0;34m\u001b[0m\u001b[0m\n\u001b[1;32m     17\u001b[0m         \u001b[0;31m# Construct the full file path\u001b[0m\u001b[0;34m\u001b[0m\u001b[0;34m\u001b[0m\u001b[0m\n",
      "\u001b[0;31mNotADirectoryError\u001b[0m: [Errno 20] Not a directory: 'speaker.tbl'"
     ]
    }
   ],
   "source": [
    "import os\n",
    "import pandas as pd\n",
    "\n",
    "# Step 1: Define the directory containing the .tbl files\n",
    "directory = 'speaker.tbl'\n",
    "\n",
    "# Step 2: Define the age groups\n",
    "bins = [5, 6, 7, 8, 9, 10, 11]\n",
    "labels = ['6', '7', '8', '9', '10', '11']\n",
    "\n",
    "# Step 3: Initialize an empty DataFrame to hold cumulative counts\n",
    "total_counts = pd.DataFrame(columns=['AgeGroup', 'TotalCount'])\n",
    "\n",
    "# Step 4: Iterate through each .tbl file in the directory\n",
    "for filename in os.listdir(directory):\n",
    "    if filename.endswith('.tbl'):\n",
    "        # Construct the full file path\n",
    "        file_path = os.path.join(directory, filename)\n",
    "        \n",
    "        # Load the .tbl file into a DataFrame\n",
    "        df = pd.read_csv(file_path, sep='\\t')\n",
    "        \n",
    "        # Create a new column for the age groups\n",
    "        df['AgeGroup'] = pd.cut(df['AGE'], bins=bins, labels=labels, right=True)\n",
    "        \n",
    "        # Group by the age group and sum the counts\n",
    "        age_group_counts = df.groupby('AgeGroup')['Count'].sum().reset_index()\n",
    "        age_group_counts.rename(columns={'Count': 'TotalCount'}, inplace=True)\n",
    "        \n",
    "        # Merge with total_counts to accumulate totals across files\n",
    "        if total_counts.empty:\n",
    "            total_counts = age_group_counts\n",
    "        else:\n",
    "            total_counts = pd.merge(total_counts, age_group_counts, on='AgeGroup', how='outer')\n",
    "            total_counts['TotalCount'] = total_counts[['TotalCount_x', 'TotalCount_y']].sum(axis=1)\n",
    "            total_counts = total_counts[['AgeGroup', 'TotalCount']]\n",
    "\n",
    "# Step 5: Display the final cumulative counts\n",
    "print(total_counts)\n"
   ]
  }
 ],
 "metadata": {
  "kernelspec": {
   "display_name": "Python 3",
   "language": "python",
   "name": "python3"
  },
  "language_info": {
   "codemirror_mode": {
    "name": "ipython",
    "version": 3
   },
   "file_extension": ".py",
   "mimetype": "text/x-python",
   "name": "python",
   "nbconvert_exporter": "python",
   "pygments_lexer": "ipython3",
   "version": "3.10.12"
  }
 },
 "nbformat": 4,
 "nbformat_minor": 2
}
