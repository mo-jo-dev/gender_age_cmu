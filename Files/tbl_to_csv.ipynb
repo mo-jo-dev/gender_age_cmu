{
 "cells": [
  {
   "cell_type": "code",
   "execution_count": null,
   "metadata": {},
   "outputs": [],
   "source": [
    "def converttbldatatocsvformat(filename, header):\n",
    " csv = open(\"\".join([path, filename, \".csv\"]), \"w+\")\n",
    " csv.write(header + \"\\n\")\n",
    " tbl = open(\"\".join([path, filename, \".tbl\"]), \"r\")\n",
    " lines = tbl.readlines()\n",
    " for line in lines:\n",
    "    length = len(line)\n",
    "    line = line[:length - 2] + line[length-1:]\n",
    "    line = line.replace(\",\",\"N\")\n",
    "    line = line.replace(\"|\",\",\")\n",
    "    csv.write(line)\n",
    " tbl.close()\n",
    " csv.close()"
   ]
  }
 ],
 "metadata": {
  "language_info": {
   "name": "python"
  }
 },
 "nbformat": 4,
 "nbformat_minor": 2
}
